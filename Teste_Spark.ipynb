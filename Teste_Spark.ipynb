{
  "nbformat": 4,
  "nbformat_minor": 0,
  "metadata": {
    "colab": {
      "provenance": [],
      "collapsed_sections": [
        "7ucL_vptW5Ol",
        "AIIllWzDCk3-",
        "b4kZP1WDCs4g",
        "SZFwmv2vCx99"
      ]
    },
    "kernelspec": {
      "name": "python3",
      "display_name": "Python 3"
    },
    "language_info": {
      "name": "python"
    }
  },
  "cells": [
    {
      "cell_type": "markdown",
      "source": [
        "# Teste: Consumo de Dados da Api do Spotify para analises sobre artistas e músicas.\n",
        "\n",
        "## Objetivo\n",
        "\n",
        "Avaliar conhecimentos nas linguagens Python e SQL e na engine de processamento Apache Spark.\n",
        "\n",
        "## Descrição\n",
        "\n",
        "Dado um conjunto de dados de músicas e artistas disponíveis em uma API pública, implemente um pipeline de processamento de dados com PySpark que realiza as seguintes operações:\n",
        "\n",
        "[x] Criar credenciais da API\n",
        "\n",
        "[ ] Consuma a API e extraia as informações de músicas e artistas dos seguintes genêros(\"Rock Nacional\", \"Piseiro/Arrocha\" e \"Pop Internacional\");\n",
        "\n",
        "[ ] Armazene os dados em formato parquet, particionando por artista;\n",
        "\n",
        "[ ] Crie um dataframe com o endpoint \"Get Artist\"\n",
        "\n",
        "[ ] Crie um dataframe com o endpoint \"Get Artist's Albums\" e traga as músicas dos álbuns que estão no endpoint \"Get Album Tracks\".\n",
        "\n",
        "[ ] Crie um dataframe com o endpoint \"Get Current User's Playlists\"\n",
        "\n",
        "[ ] Crie uma tabela temporária em PySpark a partir do DataFrame de músicas dos artistas;\n",
        "\n",
        "[ ] Crie uma tabela temporária em Pyspark a partir do Dataframe de Playlists\n",
        "\n",
        "[ ] Execute uma consulta SQL que retorna os artistas do endpoint \"Get Artist\" que estão nas Playlists, ordenados por ordem alfabética.\n",
        "\n",
        "[ ] Crie um Dataframe com o resultado da consulta e salve em parquet\n",
        "\n",
        ".\n",
        "\n",
        "-------\n",
        "\n",
        "Documentação da Api para consulta:\n",
        "```\n",
        "https://developer.spotify.com/documentation/web-api/\n",
        "```\n",
        "\n",
        "Para criar um Access Token na Spotify API, você precisa seguir os seguintes passos:\n",
        "\n",
        "Acesse o Dashboard da API Spotify:\n",
        "```\n",
        "https://developer.spotify.com/dashboard/login\n",
        "```\n",
        "1. Faça login com sua conta do Spotify ou crie uma nova conta, caso ainda não tenha.\n",
        "2. Crie um novo aplicativo clicando no botão \"Create an App\" e preencha as informações necessárias.\n",
        "3. Após criar o aplicativo, você será direcionado para a página do aplicativo, onde poderá encontrar sua Client ID e Client Secret. Anote essas informações, pois elas serão necessárias para a autenticação.\n",
        "4. Para gerar o Access Token, você precisará fazer uma solicitação GET/POST para o endpoint de autorização da API, passando sua Client ID e Client Secret como parâmetros. Você pode usar ferramentas como o Postman para realizar essa solicitação.\n",
        "5. O endpoint de autorização irá retornar um Access Token que você pode utilizar para fazer requisições à API Spotify.\n",
        "\n",
        "------------\n",
        "\n",
        "\n",
        "## Atenção\n",
        "\n",
        "- Leia a documentação dos endpoints para a extração dos dados, em alguns podem possuir número máximo de itens a serem retornados.\n",
        "\n",
        "### Para realizar esta tarefa, os candidatos devem ter conhecimento em:\n",
        "\n",
        "- PySpark (Spark SQL, Spark DataFrames);\n",
        "- Consumo de API REST;\n",
        "- armazenamento de dados;\n",
        "- Transformações e consultas SQL em PySpark.\n",
        "-------------\n",
        "## Entregando o desafio\n",
        "\n",
        "Faça uma cópia do desafio antes de começar a fazer o desafio e depois exporte para enviar!\n",
        "\n",
        "Concluindo todos os passos informados, basta salvar o arquivo .ipynb do notebook e zipar juntamente com os parquet das tabelas, postar no seu github e enviar o link para ricardo.suhete@autoglass.com.br\n",
        "\n",
        "A entrega da tarefa termina 7 dias após o recebimento deste notebook. Após o prazo será entendindo que o condidato desistiu da vaga.\n",
        "\n"
      ],
      "metadata": {
        "id": "hn3B_8K5vsad"
      }
    },
    {
      "cell_type": "markdown",
      "source": [
        "# Instalação dos pacotes necessários"
      ],
      "metadata": {
        "id": "8Tg87OKIBAmp"
      }
    },
    {
      "cell_type": "code",
      "execution_count": null,
      "metadata": {
        "id": "ICVEq0Fq6xZh"
      },
      "outputs": [],
      "source": [
        "!pip install -q findspark\n",
        "!pip install -q unidecode\n",
        "!pip install -q pyspark\n",
        "import findspark\n",
        "findspark.init()\n",
        "\n",
        "import requests as r\n",
        "import json\n",
        "import unidecode\n",
        "from pyspark.sql import SparkSession, Row\n",
        "from pyspark.sql import functions as F\n",
        "\n",
        "from pyspark.sql.types import StructField, StructType, StringType, MapType, ArrayType, IntegerType, BooleanType\n",
        "\n",
        "import urllib.parse\n",
        "\n",
        "spark = SparkSession.builder \\\n",
        "      .master(\"local[1]\") \\\n",
        "      .appName(\"Teste_Spark_Autoglass_candidatos\") \\\n",
        "      .getOrCreate()"
      ]
    },
    {
      "cell_type": "markdown",
      "source": [
        "# Variáveis"
      ],
      "metadata": {
        "id": "ZcS9Ga_TA3vY"
      }
    },
    {
      "cell_type": "code",
      "source": [
        "code = \"AQAWqugPoZceiqfhc-cQJGWo5x6EYpv9EiSCbqV3wlzPcpEOU61bN1PcEMzWdYfK-GVS9JMglUU6sY_vhYK1Jm12k7VlwtTh4Y07t2MCpHA29qR2XjYZUO5d4wNdZkn5fBOEZwN4QLJmy5Z21PGgxqr7LYLWj2Zf4x0je1P_clmaFLa0J_XOpEezA8KShp8Bl9XS5ITzyqIqvRTtIl5h1GQO_QDkkA\"\n",
        "\n",
        "CLIENT_ID = \"377e2eedd81c42c085d6e4ee8275ee1b\"\n",
        "\n",
        "AUTH_URL = \"https://accounts.spotify.com/api/authorize\"\n",
        "TOKEN_URL = \"https://accounts.spotify.com/api/token\"\n",
        "REDIRECT_URL = \"http://localhost:8000/callback\"\n",
        "\n",
        "API_BASE_URL = \"https://api.spotify.com/v1/\"\n",
        "\n",
        "scope = \"user-read-private user-read-email\""
      ],
      "metadata": {
        "id": "rj7DcQCU7G0h"
      },
      "execution_count": 2,
      "outputs": []
    },
    {
      "cell_type": "markdown",
      "source": [
        "## Schemas"
      ],
      "metadata": {
        "id": "7ucL_vptW5Ol"
      }
    },
    {
      "cell_type": "code",
      "source": [
        "schema_playlist = StructType([\n",
        "    StructField(\"href\", StringType(), True),\n",
        "    StructField(\"limit\", IntegerType(), True),\n",
        "    StructField(\"next\", StringType(), True),\n",
        "    StructField(\"offset\", IntegerType(), True),\n",
        "    StructField(\"previous\", StringType(), True),\n",
        "    StructField(\"total\", IntegerType(), True),\n",
        "    StructField(\"items\", ArrayType(\n",
        "        StructType([\n",
        "            StructField(\"collaborative\", BooleanType(), True),\n",
        "            StructField(\"description\", StringType(), True),\n",
        "            StructField(\"external_urls\", MapType(StringType(), StringType()), True),\n",
        "            StructField(\"href\", StringType(), True),\n",
        "            StructField(\"id\", StringType(), True),\n",
        "            StructField(\"images\", ArrayType(\n",
        "                StructType([\n",
        "                    StructField(\"url\", StringType(), True),\n",
        "                    StructField(\"height\", StringType(), True),\n",
        "                    StructField(\"width\", StringType(), True),\n",
        "                ])\n",
        "            ), True),\n",
        "            StructField(\"name\", StringType(), True),\n",
        "            StructField(\"owner\", StructType([\n",
        "                StructField(\"external_urls\", MapType(StringType(), StringType()), True),\n",
        "                StructField(\"href\", StringType(), True),\n",
        "                StructField(\"id\", StringType(), True),\n",
        "                StructField(\"type\", StringType(), True),\n",
        "                StructField(\"uri\", StringType(), True),\n",
        "                StructField(\"display_name\", StringType(), True),\n",
        "            ]), True),\n",
        "            StructField(\"public\", BooleanType(), True),\n",
        "            StructField(\"snapshot_id\", StringType(), True),\n",
        "            StructField(\"tracks\", StructType([\n",
        "                StructField(\"href\", StringType(), True),\n",
        "                StructField(\"total\", IntegerType(), True),\n",
        "            ]), True),\n",
        "            StructField(\"type\", StringType(), True),\n",
        "            StructField(\"uri\", StringType(), True),\n",
        "            StructField(\"primary_color\", StringType(), True),\n",
        "        ])\n",
        "    ), True),\n",
        "])\n",
        "\n",
        "schema_artistas = StructType([\n",
        "    StructField(\"name\", StringType(), True),\n",
        "    StructField(\"href\", StringType(), True),\n",
        "    StructField(\"id\", StringType(), True),\n",
        "    StructField(\"popularity\", IntegerType(), True),\n",
        "    StructField(\"type\", StringType(), True),\n",
        "    StructField(\"uri\", StringType(), True),\n",
        "    StructField(\"external_urls\", StructType([\n",
        "        StructField(\"spotify\", StringType(), True)\n",
        "    ]), True),\n",
        "    StructField(\"followers\", StructType([\n",
        "        StructField(\"href\", StringType(), True),\n",
        "        StructField(\"total\", IntegerType(), True)\n",
        "    ]), True),\n",
        "    StructField(\"images\", ArrayType(StructType([\n",
        "        StructField(\"url\", StringType(), True),\n",
        "        StructField(\"height\", IntegerType(), True),\n",
        "        StructField(\"width\", IntegerType(), True)\n",
        "    ])), True),\n",
        "    StructField(\"genres\", ArrayType(StringType()), True)\n",
        "])\n",
        "\n"
      ],
      "metadata": {
        "id": "PVxPD3XVW7Sz"
      },
      "execution_count": 3,
      "outputs": []
    },
    {
      "cell_type": "markdown",
      "source": [
        "# Autenticação"
      ],
      "metadata": {
        "id": "pUZZfczEBwiL"
      }
    },
    {
      "cell_type": "code",
      "source": [
        "token_headers = {\n",
        "    \"Content-Type\": \"application/x-www-form-urlencoded\"\n",
        "}\n",
        "\n",
        "token_data = {\n",
        "    \"grant_type\": \"authorization_code\",\n",
        "    \"code\": code,\n",
        "    \"redirect_uri\": REDIRECT_URL\n",
        "}\n",
        "\n",
        "response = r.post(TOKEN_URL, data=token_data, headers=token_headers,auth=('377e2eedd81c42c085d6e4ee8275ee1b', '1ac2c7b464ed4201886b697cbd4d26e7'))\n",
        "\n",
        "ACESS_TOKEN = response.json()['access_token']"
      ],
      "metadata": {
        "id": "qyE4Uzyy7R-W"
      },
      "execution_count": 4,
      "outputs": []
    },
    {
      "cell_type": "code",
      "source": [
        "url = \"https://accounts.spotify.com/api/token\"\n",
        "payload = \"grant_type=client_credentials\"\n",
        "\n",
        "headers = {\n",
        "    \"Content-Type\" : \"application/x-www-form-urlencoded\"\n",
        "}\n",
        "\n",
        "response = r.post(\n",
        "    url,\n",
        "    headers=headers,\n",
        "    data=payload,\n",
        "    auth=('377e2eedd81c42c085d6e4ee8275ee1b', '1ac2c7b464ed4201886b697cbd4d26e7'))\n",
        "\n",
        "print(response.json())\n",
        "access_token = response.json()['access_token']\n",
        "access_token"
      ],
      "metadata": {
        "id": "gkFurv4vdVlJ"
      },
      "execution_count": null,
      "outputs": []
    },
    {
      "cell_type": "markdown",
      "source": [
        "# Chamadas API"
      ],
      "metadata": {
        "id": "6EdgVBxdBaqW"
      }
    },
    {
      "cell_type": "markdown",
      "source": [
        "## Rock Nacional; Piseiro/Arrocha; Pop Internacional"
      ],
      "metadata": {
        "id": "OaXL_-t5CZPw"
      }
    },
    {
      "cell_type": "code",
      "source": [
        "## Adicionar for com outros estilos na busca\n",
        "\n",
        "request_url = \"search\"\n",
        "offset = 0\n",
        "artistas = []\n",
        "\n",
        "headers = {\n",
        "    \"Authorization\" : f\"Bearer {access_token}\"\n",
        "}\n",
        "\n",
        "generos = [\"Rock Nacional\", \"Piseiro/Arrocha\", \"Pop Internacional\"]\n",
        "for genero in generos:\n",
        "  params = {\n",
        "      \"q\": f\"genre: {genero}\",\n",
        "      \"type\": \"artist\",\n",
        "      \"market\": \"BR\"\n",
        "  }\n",
        "\n",
        "  encoded_params = urllib.parse.urlencode(params)\n",
        "  url = f\"{API_BASE_URL}{request_url}?{encoded_params}\"\n",
        "  response = r.get(url, headers=headers)\n",
        "  data = response.json()\n",
        "  artists = data.get('artists', {}).get('items', [])\n",
        "  artistas.extend(artists)\n",
        "  print(len(artistas))\n",
        "\n",
        "df_artistas = spark.createDataFrame(artistas, schema_artistas)\n",
        "\n",
        "df_artistas.show(50)\n"
      ],
      "metadata": {
        "id": "AKlVeqv0DFeI"
      },
      "execution_count": null,
      "outputs": []
    },
    {
      "cell_type": "markdown",
      "source": [
        "## Get Artist"
      ],
      "metadata": {
        "id": "AIIllWzDCk3-"
      }
    },
    {
      "cell_type": "code",
      "source": [
        "base_url = \"https://api.spotify.com/v1/\"\n",
        "\n",
        "request_url = \"artists/\"\n",
        "\n",
        "id = \"1YOVBTvznjiDvtAj4ExHeo\"\n",
        "\n",
        "url = f\"{base_url}{request_url}{id}\"\n",
        "\n",
        "headers = {\n",
        "    \"Authorization\" : f\"Bearer {access_token}\"\n",
        "}\n",
        "\n",
        "response = r.get(url, headers=headers)\n",
        "print(response.json())"
      ],
      "metadata": {
        "id": "R3f0AkO3CoEg"
      },
      "execution_count": 7,
      "outputs": []
    },
    {
      "cell_type": "markdown",
      "source": [
        "## Get Artist's Albums"
      ],
      "metadata": {
        "id": "b4kZP1WDCs4g"
      }
    },
    {
      "cell_type": "code",
      "source": [
        "#Request para o endpoint Get Album Tracks utilizando os album id do dataframe anterior\n",
        "\n",
        "album_id = \"\"\n",
        "\n",
        "request_url = f\"/albums/{album_id}\"\n",
        "\n",
        "url = f\"{API_BASE_URL}{request_url}\"\n",
        "\n",
        "headers = {\n",
        "    \"Authorization\" : f\"Bearer {ACESS_TOKEN}\"\n",
        "}\n",
        "\n",
        "response = r.get(url, headers=headers)\n",
        "data = [response.json()]"
      ],
      "metadata": {
        "id": "wizMRlrFCxux"
      },
      "execution_count": 8,
      "outputs": []
    },
    {
      "cell_type": "markdown",
      "source": [
        "## Get Album Tracks"
      ],
      "metadata": {
        "id": "SZFwmv2vCx99"
      }
    },
    {
      "cell_type": "code",
      "source": [
        "#Request para o endpoint Get Album Tracks utilizando os album id do dataframe anterior\n",
        "\n",
        "album_id = \"\"\n",
        "\n",
        "request_url = f\"/albums/{album_id}/tracks\"\n",
        "\n",
        "url = f\"{API_BASE_URL}{request_url}\"\n",
        "\n",
        "headers = {\n",
        "    \"Authorization\" : f\"Bearer {ACESS_TOKEN}\"\n",
        "}\n",
        "\n",
        "response = r.get(url, headers=headers)\n",
        "data = [response.json()]"
      ],
      "metadata": {
        "id": "m84cGrsEC2lE"
      },
      "execution_count": null,
      "outputs": []
    },
    {
      "cell_type": "markdown",
      "source": [
        "## Get Current User's Playlists"
      ],
      "metadata": {
        "id": "ddF5z843B4ls"
      }
    },
    {
      "cell_type": "code",
      "source": [
        "#Request para o endpoint Get Current User's Playlists\n",
        "request_url = \"me/playlists\"\n",
        "\n",
        "\n",
        "url = f\"{API_BASE_URL}{request_url}\"\n",
        "\n",
        "headers = {\n",
        "    \"Authorization\" : f\"Bearer {ACESS_TOKEN}\"\n",
        "}\n",
        "\n",
        "response = r.get(url, headers=headers)\n",
        "data = [response.json()]"
      ],
      "metadata": {
        "id": "_Ys3FaDu7XWr"
      },
      "execution_count": 15,
      "outputs": []
    },
    {
      "cell_type": "code",
      "source": [
        "df_user_playlists = spark.createDataFrame(data, schema=schema_playlist)\n",
        "df_user_playlists = df_user_playlists.select(\"href\", \"limit\", \"next\", \"offset\", \"previous\", \"total\", F.explode(\"items\").alias(\"item\"))\n",
        "df_user_playlists = df_user_playlists.select(\"href\", \"limit\", \"next\", \"offset\", \"previous\", \"total\", \"item.*\")\n",
        "\n",
        "df_user_playlists.show(truncate=False)"
      ],
      "metadata": {
        "id": "sVSM0C57UGy5"
      },
      "execution_count": null,
      "outputs": []
    },
    {
      "cell_type": "code",
      "source": [
        "#Criação da TempView; TempTable está depreciado nas versões mais recentes\n",
        "\n",
        "df_user_playlists.createOrReplaceTempView(\"User_Playlists\")"
      ],
      "metadata": {
        "id": "a0l9AVzKdQAt"
      },
      "execution_count": 14,
      "outputs": []
    },
    {
      "cell_type": "code",
      "source": [],
      "metadata": {
        "id": "SnzDbbj5db35"
      },
      "execution_count": 11,
      "outputs": []
    }
  ]
}